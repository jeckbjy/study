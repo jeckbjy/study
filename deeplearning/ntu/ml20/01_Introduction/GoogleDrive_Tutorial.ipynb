{
  "nbformat": 4,
  "nbformat_minor": 0,
  "metadata": {
    "colab": {
      "name": "GoogleDrive_Tutorial.ipynb",
      "provenance": [],
      "collapsed_sections": []
    },
    "kernelspec": {
      "name": "python3",
      "display_name": "Python 3"
    }
  },
  "cells": [
    {
      "cell_type": "markdown",
      "metadata": {
        "id": "ca2CpPPUvO-h"
      },
      "source": [
        "# **Google Drive 檔案存取教學**\n",
        "\n",
        "作者：黃健祐 Chien-yu Huang\n",
        "\n",
        "若有任何問題，歡迎來信至助教信箱 ntu-ml-2020spring-ta@googlegroups.com"
      ]
    },
    {
      "cell_type": "markdown",
      "metadata": {
        "id": "EAM_tPQAELh0"
      },
      "source": [
        "Colab 可以透過兩種方式存取 Google Drive 的檔案：\n",
        "\n",
        "**1. 透過檔案共用連結**\n",
        "\n",
        "  一般來說，Google Drive 的檔案連結會是類似下面的結構：\n",
        "\n",
        "  https://drive.google.com/open?id=1duQU7xqXRsOSPYeOR0zLiSA8g_LCFzoV\n",
        "  \n",
        "  其中 \"open?id=\" 後面的那一串亂碼稱為 **file_id**\n",
        "\n",
        "  在 colab 中，我們可以直接用 **file_id** 下載檔案，優點是這個過程不需要再手動輸入任何訊息，但缺點是下載下來的檔案在程式執行完畢後就會消失，也就是每一次都必須重新下載，使得執行時間增加。\n",
        "\n",
        "\n",
        "\n",
        "\n"
      ]
    },
    {
      "cell_type": "code",
      "metadata": {
        "id": "XztYEj0oD7J3",
        "outputId": "f1865640-0d20-4f6e-bb92-9dd047ac3ccc",
        "colab": {
          "base_uri": "https://localhost:8080/",
          "height": 107
        }
      },
      "source": [
        "# 下載 file_id 為 \"1duQU7xqXRsOSPYeOR0zLiSA8g_LCFzoV\" 的檔案，並將它命名為 Minori.jpg\n",
        "!gdown --id '1duQU7xqXRsOSPYeOR0zLiSA8g_LCFzoV' --output Minori.jpg\n",
        "# 列出目前目錄下所有的檔案\n",
        "!ls"
      ],
      "execution_count": null,
      "outputs": [
        {
          "output_type": "stream",
          "text": [
            "Downloading...\n",
            "From: https://drive.google.com/uc?id=1duQU7xqXRsOSPYeOR0zLiSA8g_LCFzoV\n",
            "To: /content/Minori.jpg\n",
            "\r  0% 0.00/219k [00:00<?, ?B/s]\r100% 219k/219k [00:00<00:00, 82.5MB/s]\n",
            "Minori.jpg  sample_data\n"
          ],
          "name": "stdout"
        }
      ]
    },
    {
      "cell_type": "markdown",
      "metadata": {
        "id": "a4O8VLuGETPQ"
      },
      "source": [
        "**2. 掛載自己的 Google Drive**\n",
        "\n",
        "  透過 Google 提供的套件，我們可以讓 Colab 上的程式直接讀取自己的雲端硬碟。\n",
        "  這個方法的好處是只要檔案存在於自己的雲端硬碟，就隨時都可以直接存取；相對地，缺點就是使用者得手動將檔案加入，並且在程式運行時要輸入連結 Google Drive 所需要的授權碼。\n",
        "\n"
      ]
    },
    {
      "cell_type": "code",
      "metadata": {
        "id": "CufnDQVQGkyH",
        "outputId": "1abe1097-9be4-44eb-d937-ed8ea4eae166",
        "colab": {
          "base_uri": "https://localhost:8080/",
          "height": 127
        }
      },
      "source": [
        "# OpenCV 套件，和 Google Drive 無關\n",
        "import cv2\n",
        "# import Google Drive 套件\n",
        "from google.colab import drive\n",
        "# 將自己的雲端硬碟掛載上去\n",
        "drive.mount('/content/gdrive')\n",
        "# 透過 gdrive/My Drive/... 來存取檔案\n",
        "img = cv2.imread('gdrive/My Drive/Minori.jpg')"
      ],
      "execution_count": null,
      "outputs": [
        {
          "output_type": "stream",
          "text": [
            "Go to this URL in a browser: https://accounts.google.com/o/oauth2/auth?client_id=947318989803-6bn6qk8qdgf4n4g3pfee6491hc0brc4i.apps.googleusercontent.com&redirect_uri=urn%3aietf%3awg%3aoauth%3a2.0%3aoob&response_type=code&scope=email%20https%3a%2f%2fwww.googleapis.com%2fauth%2fdocs.test%20https%3a%2f%2fwww.googleapis.com%2fauth%2fdrive%20https%3a%2f%2fwww.googleapis.com%2fauth%2fdrive.photos.readonly%20https%3a%2f%2fwww.googleapis.com%2fauth%2fpeopleapi.readonly\n",
            "\n",
            "Enter your authorization code:\n",
            "··········\n",
            "Mounted at /content/gdrive\n"
          ],
          "name": "stdout"
        }
      ]
    },
    {
      "cell_type": "markdown",
      "metadata": {
        "id": "D0URgikZXl5I"
      },
      "source": [
        "\n",
        "\n",
        "```\n",
        "# 此内容为代码格式\n",
        "```\n",
        "\n",
        "助教們提供的 sample code 是使用第一種方式來取得檔案，如果同學在實作作業時有需要，可以自行將 code 換成第二種方式。"
      ]
    }
  ]
}